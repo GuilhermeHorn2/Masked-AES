{
  "nbformat": 4,
  "nbformat_minor": 0,
  "metadata": {
    "colab": {
      "provenance": []
    },
    "kernelspec": {
      "name": "python3",
      "display_name": "Python 3"
    },
    "language_info": {
      "name": "python"
    }
  },
  "cells": [
    {
      "cell_type": "code",
      "source": [
        "import random\n",
        "import math"
      ],
      "metadata": {
        "id": "clqNniFa0IsF"
      },
      "execution_count": null,
      "outputs": []
    },
    {
      "cell_type": "code",
      "source": [
        "# Masked AES for d = 1 with no ifs"
      ],
      "metadata": {
        "id": "Z2UEd4z-s7gQ"
      },
      "execution_count": null,
      "outputs": []
    },
    {
      "cell_type": "code",
      "execution_count": null,
      "metadata": {
        "id": "MrTAuV8kzpqw"
      },
      "outputs": [],
      "source": [
        "# 8bit random number\n",
        "def rand8():\n",
        "  return random.randint(0, 255)"
      ]
    },
    {
      "cell_type": "code",
      "source": [
        "# multiply by x in GF(256) :\n",
        "\n",
        "def shift_com_r(a, r, shift):\n",
        "  for i in range(shift):\n",
        "    a <<= 1\n",
        "    tmp = r\n",
        "    a = a | tmp\n",
        "  return a\n",
        "\n",
        "def xtime(a):\n",
        "  a <<= 1\n",
        "  r = a & 0x100\n",
        "  r >>= 8\n",
        "  r = shift_com_r(r, r, 7)\n",
        "  b = a ^ 0x11B\n",
        "  b = b & 0xFF\n",
        "  a = a & 0xFF\n",
        "  ret = (r&(b ^ a)) ^ a\n",
        "  return ret"
      ],
      "metadata": {
        "id": "306IfMhd0dpe"
      },
      "execution_count": null,
      "outputs": []
    },
    {
      "cell_type": "code",
      "source": [
        "# rotate a left n times:\n",
        "def rot(a, n):\n",
        "  r = a\n",
        "  for i in range(n):\n",
        "    r = xtime(a)\n",
        "  return r"
      ],
      "metadata": {
        "id": "ZdJluJ85t-I_"
      },
      "execution_count": null,
      "outputs": []
    },
    {
      "cell_type": "code",
      "source": [
        "# a * b in GF(256) :\n",
        "def gf_mul(a, b):\n",
        "  res = 0\n",
        "  while b:\n",
        "    tmp = b & 1\n",
        "    res = res  ^ (tmp*(a))\n",
        "    a = xtime(a)\n",
        "    b >>= 1\n",
        "  return res\n"
      ],
      "metadata": {
        "id": "lOe44DZm0bib"
      },
      "execution_count": null,
      "outputs": []
    },
    {
      "cell_type": "code",
      "source": [
        "# a^e in GF(256) :\n",
        "def gf_pow(a, e):\n",
        "  r = 1\n",
        "  while e:\n",
        "    tmp = e & 1\n",
        "    r = gf_mul(r, a) * tmp + (1-tmp)*r\n",
        "    a = gf_mul(a, a)\n",
        "    e >>= 1\n",
        "  return r"
      ],
      "metadata": {
        "id": "7TeAiJGA38uN"
      },
      "execution_count": null,
      "outputs": []
    },
    {
      "cell_type": "code",
      "source": [
        "# Simple inverse in GF(256):\n",
        "def get_inv(a):\n",
        "  return gf_pow(a, 254)"
      ],
      "metadata": {
        "id": "eiCAUmDEusGC"
      },
      "execution_count": null,
      "outputs": []
    },
    {
      "cell_type": "code",
      "source": [
        "# Given p, calculate S[p] :\n",
        "\n",
        "def rotl8(x, shift):\n",
        "    return ((x << shift) | (x >> (8 - shift))) & 0xFF\n",
        "\n",
        "def sbox(p):\n",
        "    r = math.ceil(p/255)\n",
        "    b = get_inv(p) & 0xFF\n",
        "    tmp = (b ^\n",
        "           rotl8(b,1) ^\n",
        "           rotl8(b,2) ^\n",
        "           rotl8(b,3) ^\n",
        "           rotl8(b,4))\n",
        "    return (1-r)*0x63 + r*(tmp ^ 0x63)"
      ],
      "metadata": {
        "id": "2jl8-Snmu4J7"
      },
      "execution_count": null,
      "outputs": []
    },
    {
      "cell_type": "code",
      "source": [
        "# Given a and b perform masked multiplication using the ISW algorithm with d+1 shares\n",
        "\n",
        "def isw_mul(a, b, d):\n",
        "  d = d+1\n",
        "  r = [[0]*d]*d\n",
        "  z = [[0]*d]*d\n",
        "  c = [0]*d\n",
        "  for i in range(d):\n",
        "    for j in range(i+1,d):\n",
        "      r[i][j] = rand8()\n",
        "      z[i][j] = (r[i][j] ^ gf_mul(a[i], b[j])) ^ gf_mul(a[j], b[i])\n",
        "      z[j][i] = r[i][j]\n",
        "  for i in range(d):\n",
        "    # somatorio:\n",
        "    tmp = 0\n",
        "    for j in range(d):\n",
        "      if i != j:\n",
        "        tmp ^= z[i][j]\n",
        "    c[i] = gf_mul(a[i], b[i]) ^ tmp\n",
        "  return c"
      ],
      "metadata": {
        "id": "Wa8XCunG0IKt"
      },
      "execution_count": null,
      "outputs": []
    },
    {
      "cell_type": "code",
      "source": [
        "# Inverse of a masked value in GF(256), working for d = 1 only :\n",
        "def gf_inv_mskd(p, d):\n",
        "  rand = rand8()\n",
        "  b = [0x01 ^ rand, rand] # so funciona para d = 1\n",
        "  e = 254\n",
        "  while e:\n",
        "    tmp = e & 1\n",
        "    b = isw_mul(b, p, d) * tmp + (1-tmp)*b\n",
        "    p = isw_mul(p, p, d)\n",
        "    e >>= 1\n",
        "  return b"
      ],
      "metadata": {
        "id": "zyWzKGvN0Ujw"
      },
      "execution_count": null,
      "outputs": []
    },
    {
      "cell_type": "code",
      "source": [
        "# Given a masked value p, calculate S[p], only working for d = 1:\n",
        "\n",
        "def mk_tmp_mskd(b, d):\n",
        "  tmp = [0]*(d+1)\n",
        "  for i in range(d+1):\n",
        "    tmp[i] = b[i] ^ rotl8(b[i], 1) ^ rotl8(b[i], 2) ^ rotl8(b[i], 3) ^ rotl8(b[i], 4)\n",
        "  r = 0\n",
        "  return tmp\n",
        "\n",
        "def sbox_mskd(p, d):\n",
        "  r = math.ceil((p[0] ^ p[1])/255) # p e [0,255], but I must know if p == 0\n",
        "  b = gf_inv_mskd(p, d)\n",
        "  tmp = mk_tmp_mskd(b, d)\n",
        "  tmp[0] = tmp[0]\n",
        "  tmp[1] = tmp[1] ^ 0x63\n",
        "  #\n",
        "  r0 = rand8()\n",
        "  zero_out = [0x63 ^ r0, r0]\n",
        "  ret = [0, 0]\n",
        "  ret[0] = (1-r)*zero_out[0] + r*(tmp[0])\n",
        "  ret[1] = (1-r)*zero_out[1] + r*(tmp[1])\n",
        "  return ret"
      ],
      "metadata": {
        "id": "_NZ8sBfjwKm5"
      },
      "execution_count": null,
      "outputs": []
    },
    {
      "cell_type": "code",
      "source": [
        "# Mix Columns with a masked state, working for d = 1 only :\n",
        "def mix_columns_mskd(state, d):\n",
        "  l = len(state[0])\n",
        "  tmp = [[[0, 0], [0, 0], [0, 0], [0, 0]],\n",
        "         [[0, 0], [0, 0], [0, 0], [0, 0]],\n",
        "         [[0, 0], [0, 0], [0, 0], [0, 0]],\n",
        "         [[0, 0], [0, 0], [0, 0], [0, 0]]]\n",
        "  a = [0x02 ^ 0x0, 0x0]\n",
        "  b = [0x03 ^ 0x0, 0x0]\n",
        "  for c in range(4):\n",
        "    mul0 = isw_mul(a, state[0][c], 1)\n",
        "    mul1 = isw_mul(b, state[1][c], 1)\n",
        "    tmp[0][c][0] = (mul0[0] ^ mul1[0] ^ state[2][c][0] ^ state[3][c][0]) & 0xFF\n",
        "    tmp[0][c][1] = (mul0[1] ^ mul1[1] ^ state[2][c][1] ^ state[3][c][1]) & 0xFF\n",
        "    mul2 = isw_mul(a, state[1][c], 1)\n",
        "    mul3 = isw_mul(b, state[2][c], 1)\n",
        "    tmp[1][c][0] = ((state[0][c][0] ^ mul2[0]) ^ mul3[0] ^ state[3][c][0]) & 0xFF\n",
        "    tmp[1][c][1] = ((state[0][c][1] ^ mul2[1]) ^ mul3[1] ^ state[3][c][1]) & 0xFF\n",
        "    mul4 = isw_mul(a, state[2][c], 1)\n",
        "    mul5 = isw_mul(b, state[3][c], 1)\n",
        "    tmp[2][c][0] = ((state[0][c][0] ^ state[1][c][0]) ^ mul4[0] ^ mul5[0]) & 0xFF\n",
        "    tmp[2][c][1] = ((state[0][c][1] ^ state[1][c][1]) ^ mul4[1] ^ mul5[1]) & 0xFF\n",
        "    mul6 = isw_mul(b, state[0][c], 1)\n",
        "    mul7 = isw_mul(a, state[3][c], 1)\n",
        "    tmp[3][c][0] = (mul6[0] ^ state[1][c][0] ^ state[2][c][0] ^ mul7[0]) & 0xFF\n",
        "    tmp[3][c][1] = (mul6[1] ^ state[1][c][1] ^ state[2][c][1] ^ mul7[1]) & 0xFF\n",
        "\n",
        "  return tmp"
      ],
      "metadata": {
        "id": "LiWvV4pFxZlS"
      },
      "execution_count": null,
      "outputs": []
    },
    {
      "cell_type": "code",
      "source": [
        "# Shift Rows(It does not matter with state is masked or not) :\n",
        "def shiftrows(state):\n",
        "    assert len(state) == 4 and all(len(row) == 4 for row in state)\n",
        "    # Row 0: no shift\n",
        "    state[1] = state[1][1:] + state[1][:1]\n",
        "    state[2] = state[2][2:] + state[2][:2]\n",
        "    state[3] = state[3][3:] + state[3][:3]\n",
        "\n",
        "    return state"
      ],
      "metadata": {
        "id": "MBK7ujmx1Coh"
      },
      "execution_count": null,
      "outputs": []
    },
    {
      "cell_type": "code",
      "source": [
        "# Given a masked state and round_key, perform an xor term by term :\n",
        "def add_round_key_mskd(state, round_key, d):\n",
        "    tmp = state.copy()\n",
        "    for k in range(2):\n",
        "      for i in range(4):\n",
        "        for j in range(4):\n",
        "          tmp[i][j][k] ^= round_key[i][j][k]\n",
        "    return tmp"
      ],
      "metadata": {
        "id": "aH8D-4jex2U_"
      },
      "execution_count": null,
      "outputs": []
    },
    {
      "cell_type": "code",
      "source": [
        "###################################### BEGIN KEY SCHEDULE ######################################################\n",
        "#\n",
        "\n",
        "RCON = [\n",
        "    0x00, # unused\n",
        "    0x01, 0x02, 0x04, 0x08,\n",
        "    0x10, 0x20, 0x40, 0x80,\n",
        "    0x1b, 0x36\n",
        "]\n",
        "\n",
        "def rot_word(word):\n",
        "    return word[1:] + word[:1]\n",
        "\n",
        "def sub_word(word):\n",
        "    return [sbox(b) for b in word]\n",
        "\n",
        "def key_exp_core(word, i):\n",
        "    word = rot_word(word)\n",
        "    word = sub_word(word)\n",
        "    word[0] ^= gf_pow(0x02, i-1) # rcon(i) = gf_pow(2, i-1)\n",
        "    return word\n",
        "\n",
        "def key_exp(key):\n",
        "    # key: list of 16 bytes\n",
        "    assert len(key) == 16\n",
        "    expanded = [0] * 176\n",
        "    expanded[0:16] = key\n",
        "\n",
        "    bytes_generated = 16\n",
        "    rcon_iter = 1\n",
        "    temp = [0, 0, 0, 0]\n",
        "\n",
        "    while bytes_generated < 176:\n",
        "        # last 4 bytes\n",
        "        temp = expanded[bytes_generated-4:bytes_generated]\n",
        "\n",
        "        if bytes_generated % 16 == 0:\n",
        "            temp = key_exp_core(temp, rcon_iter)\n",
        "            rcon_iter += 1\n",
        "\n",
        "        for i in range(4):\n",
        "            expanded[bytes_generated] = expanded[bytes_generated - 16] ^ temp[i]\n",
        "            bytes_generated += 1\n",
        "\n",
        "    return expanded\n",
        "\n",
        "\n",
        "key = [0x0]*16\n",
        "#\n",
        "def mask_exp_keys(expd_keys):\n",
        "  #\n",
        "  m = rand8()\n",
        "  tmp = [[0] for _ in range(176)]\n",
        "\n",
        "  for i in range(len(expd_keys)):\n",
        "    tmp[i] = [expd_keys[i] ^ m, m]\n",
        "  return tmp\n",
        "\n",
        "print(mask_exp_keys(key))\n",
        "\n",
        "\n",
        "def test_key_exp():\n",
        "    key = [\n",
        "        0x2b, 0x7e, 0x15, 0x16,\n",
        "        0x28, 0xae, 0xd2, 0xa6,\n",
        "        0xab, 0xf7, 0x15, 0x88,\n",
        "        0x09, 0xcf, 0x4f, 0x3c\n",
        "    ]\n",
        "    expanded = key_exp(key)\n",
        "    assert len(expanded) == 176\n",
        "\n",
        "    expected_r1 = [\n",
        "        0xa0,0xfa,0xfe,0x17, 0x88,0x54,0x2c,0xb1,\n",
        "        0x23,0xa3,0x39,0x39, 0x2a,0x6c,0x76,0x05\n",
        "    ]\n",
        "    expected_r2 = [\n",
        "        0xf2,0xc2,0x95,0xf2, 0x7a,0x96,0xb9,0x43,\n",
        "        0x59,0x35,0x80,0x7a, 0x73,0x59,0xf6,0x7f\n",
        "    ]\n",
        "    expected_r3 = [\n",
        "        0x3d,0x80,0x47,0x7d, 0x47,0x16,0xfe,0x3e,\n",
        "        0x1e,0x23,0x7e,0x44, 0x6d,0x7a,0x88,0x3b\n",
        "    ]\n",
        "\n",
        "    assert expanded[16:32] == expected_r1, \"Round 1 mismatch\"\n",
        "    assert expanded[32:48] == expected_r2, \"Round 2 mismatch\"\n",
        "    assert expanded[48:64] == expected_r3, \"Round 3 mismatch\"\n",
        "\n",
        "    print(\"AES-128 key expansion matches FIPS-197 Appendix A.1 up to round 3!\")\n",
        "test_key_exp()\n"
      ],
      "metadata": {
        "colab": {
          "base_uri": "https://localhost:8080/"
        },
        "id": "-8ytHlmQyArk",
        "outputId": "fd9bed48-df9c-4643-8b4a-01f1906979e2"
      },
      "execution_count": null,
      "outputs": [
        {
          "output_type": "stream",
          "name": "stdout",
          "text": [
            "[[143, 143], [143, 143], [143, 143], [143, 143], [143, 143], [143, 143], [143, 143], [143, 143], [143, 143], [143, 143], [143, 143], [143, 143], [143, 143], [143, 143], [143, 143], [143, 143], [0], [0], [0], [0], [0], [0], [0], [0], [0], [0], [0], [0], [0], [0], [0], [0], [0], [0], [0], [0], [0], [0], [0], [0], [0], [0], [0], [0], [0], [0], [0], [0], [0], [0], [0], [0], [0], [0], [0], [0], [0], [0], [0], [0], [0], [0], [0], [0], [0], [0], [0], [0], [0], [0], [0], [0], [0], [0], [0], [0], [0], [0], [0], [0], [0], [0], [0], [0], [0], [0], [0], [0], [0], [0], [0], [0], [0], [0], [0], [0], [0], [0], [0], [0], [0], [0], [0], [0], [0], [0], [0], [0], [0], [0], [0], [0], [0], [0], [0], [0], [0], [0], [0], [0], [0], [0], [0], [0], [0], [0], [0], [0], [0], [0], [0], [0], [0], [0], [0], [0], [0], [0], [0], [0], [0], [0], [0], [0], [0], [0], [0], [0], [0], [0], [0], [0], [0], [0], [0], [0], [0], [0], [0], [0], [0], [0], [0], [0], [0], [0], [0], [0], [0], [0], [0], [0], [0], [0], [0], [0]]\n",
            "AES-128 key expansion matches FIPS-197 Appendix A.1 up to round 3!\n"
          ]
        }
      ]
    },
    {
      "cell_type": "code",
      "source": [
        "# For each value in a masked state, get the corresponding sbox value :\n",
        "def sub_bytes_masked(state, d):\n",
        "  for i in range(4):\n",
        "    for j in range(4):\n",
        "      state[i][j] = sbox_mskd(state[i][j], d)\n",
        "  return state"
      ],
      "metadata": {
        "id": "cN7Op6MgybDM"
      },
      "execution_count": null,
      "outputs": []
    },
    {
      "cell_type": "code",
      "source": [
        "# Masked AES for d = 1\n",
        "def masked_aes(text, keys, d):\n",
        "  state = mk_matrix_2(text)\n",
        "  state = add_round_key_mskd(state, mk_matrix_2(keys[0:16]), d)\n",
        "  for i in range(1, 10):\n",
        "    state = sub_bytes_masked(state, d)\n",
        "    state = shiftrows(state)\n",
        "    state = mix_columns_mskd(state, d)\n",
        "    state = add_round_key_mskd(state, mk_matrix_2(keys[i*16:i*16+16]), d)\n",
        "  state = sub_bytes_masked(state, d)\n",
        "  state = shiftrows(state)\n",
        "  state = add_round_key_mskd(state, mk_matrix_2(keys[160:176]), d)\n",
        "  return state"
      ],
      "metadata": {
        "id": "JSV6npTF1Zpm"
      },
      "execution_count": null,
      "outputs": []
    },
    {
      "cell_type": "code",
      "source": [
        "# The operations of this AES implementation are done in matrixes, so if an input is given in an list\n",
        "# I must parse it to a matrix in column major:\n",
        "def mk_matrix_2(l):\n",
        "    tmp = [[0]*4 for _ in range(4)]\n",
        "    k = 0\n",
        "    for c in range(4):       # columns first\n",
        "        for r in range(4):   # then rows\n",
        "            tmp[r][c] = l[k]\n",
        "            k += 1\n",
        "    return tmp\n"
      ],
      "metadata": {
        "id": "c0q6kaZUzDRI"
      },
      "execution_count": null,
      "outputs": []
    },
    {
      "cell_type": "code",
      "source": [
        "# TEST 1 From AESAVS.doc: 3ad78e726c1ec02b7ebfe92b23d9ec34\n",
        "key = [0x0]*16\n",
        "exp_key = key_exp(key)\n",
        "exp_key = mask_exp_keys(exp_key)\n",
        "\n",
        "text = [[0x80 ^ 0x1, 0x1], [0x0 ^ 0x1, 0x1], [0x0 ^ 0x1, 0x1], [0x0 ^ 0x1, 0x1],\n",
        "       [0x0 ^ 0x2, 0x2], [0x0 ^ 0x2, 0x2], [0x0 ^ 0x2, 0x2], [0x0 ^ 0x2, 0x2],\n",
        "       [0x0 ^ 0x3, 0x3], [0x0 ^ 0x3, 0x3], [0x0 ^ 0x3, 0x3], [0x0 ^ 0x3, 0x3],\n",
        "       [0x0 ^ 0x4, 0x4], [0x0 ^ 0x4, 0x4], [0x0 ^ 0x4, 0x4], [0x0 ^ 0x4, 0x4]]\n",
        "\n",
        "cipher = masked_aes(text, exp_key, 1)\n",
        "out = []\n",
        "for i in range(4):\n",
        "    for j in range(4):\n",
        "        out.append(cipher[j][i][0] ^ cipher[j][i][1])  # careful with order\n",
        "print(\"Ciphertext:\", \"\".join(f\"{b:02x}\" for b in out))"
      ],
      "metadata": {
        "colab": {
          "base_uri": "https://localhost:8080/"
        },
        "id": "Dgliz8FtysMw",
        "outputId": "0e5639fb-c5b0-4e2f-81f9-95fb9ad32bd1"
      },
      "execution_count": null,
      "outputs": [
        {
          "output_type": "stream",
          "name": "stdout",
          "text": [
            "Ciphertext: 3ad78e726c1ec02b7ebfe92b23d9ec34\n"
          ]
        }
      ]
    },
    {
      "cell_type": "code",
      "source": [
        "# TEST 2 From AESAVS.doc: 79bf5dce14bb7dd73a8e3611de7ce026\n",
        "key = [0x00]*16\n",
        "exp_key = key_exp(key)\n",
        "\n",
        "text = [[0xff ^ 0x1, 0x1], [0xff ^ 0x1, 0x1], [0xff ^ 0x1, 0x1], [0xff ^ 0x1, 0x1],\n",
        "        [0xff ^ 0x2, 0x2], [0xff ^ 0x2, 0x2], [0xff ^ 0x2, 0x2], [0xff ^ 0x2, 0x2],\n",
        "        [0xff ^ 0x3, 0x3], [0xff ^ 0x3, 0x3], [0xff ^ 0x3, 0x3], [0xff ^ 0x3, 0x3],\n",
        "        [0xfc ^ 0x4, 0x4], [0x0 ^ 0x4, 0x4], [0x0 ^ 0x4, 0x4], [0x0 ^ 0x4, 0x4]]\n",
        "exp_key = mask_exp_keys(exp_key)\n",
        "cipher = masked_aes(text, exp_key, 1)\n",
        "out = []\n",
        "for i in range(4):\n",
        "    for j in range(4):\n",
        "        out.append(cipher[j][i][0] ^ cipher[j][i][1])  # careful with order\n",
        "print(\"Ciphertext:\", \"\".join(f\"{b:02x}\" for b in out))"
      ],
      "metadata": {
        "colab": {
          "base_uri": "https://localhost:8080/"
        },
        "id": "Efa7lAis0Zpd",
        "outputId": "d4f9e6a8-7f34-4720-dd9a-67996ae13d3b"
      },
      "execution_count": null,
      "outputs": [
        {
          "output_type": "stream",
          "name": "stdout",
          "text": [
            "Ciphertext: 79bf5dce14bb7dd73a8e3611de7ce026\n"
          ]
        }
      ]
    },
    {
      "cell_type": "code",
      "source": [
        "# TEST 3 From AESAVS.doc: 6d251e6944b051e04eaa6fb4dbf78465\n",
        "key = [0x10, 0xa5, 0x88, 0x69, 0xd7, 0x4b, 0xe5, 0xa3,\n",
        "           0x74, 0xcf, 0x86, 0x7c, 0xfb, 0x47, 0x38, 0x59]\n",
        "exp_key = key_exp(key)\n",
        "\n",
        "text = [[0x0 ^ 0x1, 0x1], [0x0 ^ 0x1, 0x1], [0x0 ^ 0x1, 0x1], [0x0 ^ 0x1, 0x1],\n",
        "        [0x0 ^ 0x2, 0x2], [0x0 ^ 0x2, 0x2], [0x0 ^ 0x2, 0x2], [0x0 ^ 0x2, 0x2],\n",
        "        [0x0 ^ 0x3, 0x3], [0x0 ^ 0x3, 0x3], [0x0 ^ 0x3, 0x3], [0x0 ^ 0x3, 0x3],\n",
        "        [0x0 ^ 0x4, 0x4], [0x0 ^ 0x4, 0x4], [0x0 ^ 0x4, 0x4], [0x0 ^ 0x4, 0x4]]\n",
        "exp_key = mask_exp_keys(exp_key)\n",
        "cipher = masked_aes(text, exp_key, 1)\n",
        "out = []\n",
        "for i in range(4):\n",
        "    for j in range(4):\n",
        "        out.append(cipher[j][i][0] ^ cipher[j][i][1])  # careful with order\n",
        "print(\"Ciphertext:\", \"\".join(f\"{b:02x}\" for b in out))"
      ],
      "metadata": {
        "colab": {
          "base_uri": "https://localhost:8080/"
        },
        "id": "CyBcU7zr0mZN",
        "outputId": "f4225867-6c9f-4a1b-aa84-91a41c258459"
      },
      "execution_count": null,
      "outputs": [
        {
          "output_type": "stream",
          "name": "stdout",
          "text": [
            "Ciphertext: 6d251e6944b051e04eaa6fb4dbf78465\n"
          ]
        }
      ]
    }
  ]
}